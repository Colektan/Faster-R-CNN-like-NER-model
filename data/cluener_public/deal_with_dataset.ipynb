{
 "cells": [
  {
   "cell_type": "code",
   "execution_count": 5,
   "metadata": {},
   "outputs": [],
   "source": [
    "import json\n",
    "Data = []\n",
    "with open(r\"D:\\1Acyn\\FUDAN\\2022学年\\知识计算\\project\\NER_ZH\\data\\cluener_public\\train.json\", 'r') as f:\n",
    "    for line in f:\n",
    "        try:\n",
    "            Data.append(json.loads(line.rstrip(';\\n')))\n",
    "        except ValueError:\n",
    "            print (\"Skipping invalid line {0}\".format(repr(line)))\n"
   ]
  },
  {
   "cell_type": "code",
   "execution_count": 15,
   "metadata": {},
   "outputs": [
    {
     "data": {
      "text/plain": [
       "{'name': {'叶老桂': [[9, 11]]}, 'company': {'浙商银行': [[0, 3]]}}"
      ]
     },
     "execution_count": 15,
     "metadata": {},
     "output_type": "execute_result"
    }
   ],
   "source": []
  },
  {
   "cell_type": "code",
   "execution_count": 8,
   "metadata": {},
   "outputs": [
    {
     "name": "stderr",
     "output_type": "stream",
     "text": [
      "c:\\Users\\ASUS\\anaconda3\\envs\\torch_env\\lib\\site-packages\\tqdm\\auto.py:22: TqdmWarning: IProgress not found. Please update jupyter and ipywidgets. See https://ipywidgets.readthedocs.io/en/stable/user_install.html\n",
      "  from .autonotebook import tqdm as notebook_tqdm\n"
     ]
    }
   ],
   "source": [
    "from transformers import AdamW, get_linear_schedule_with_warmup, BertTokenizer, BertConfig\n",
    "\n",
    "tokenizer = BertTokenizer.from_pretrained('bert-base-chinese', do_lower_case=True)"
   ]
  },
  {
   "cell_type": "code",
   "execution_count": 13,
   "metadata": {},
   "outputs": [
    {
     "data": {
      "text/plain": [
       "{'input_ids': [101, 4495, 4495, 679, 2622, 9541, 8798, 4495, 1265, 4312, 4060, 6375, 872, 1856, 2486, 4312, 2812, 102], 'token_type_ids': [0, 0, 0, 0, 0, 0, 0, 0, 0, 0, 0, 0, 0, 0, 0, 0, 0, 0], 'attention_mask': [1, 1, 1, 1, 1, 1, 1, 1, 1, 1, 1, 1, 1, 1, 1, 1, 1, 1]}"
      ]
     },
     "execution_count": 13,
     "metadata": {},
     "output_type": "execute_result"
    }
   ],
   "source": [
    "tokenizer(''.join(Data[1]['text']))"
   ]
  },
  {
   "cell_type": "code",
   "execution_count": 20,
   "metadata": {},
   "outputs": [
    {
     "data": {
      "text/plain": [
       "{'name': {'叶老桂': [[9, 11]]}, 'company': {'浙商银行': [[0, 3]]}}"
      ]
     },
     "execution_count": 20,
     "metadata": {},
     "output_type": "execute_result"
    }
   ],
   "source": [
    "Data[0]['label']"
   ]
  },
  {
   "cell_type": "code",
   "execution_count": 19,
   "metadata": {},
   "outputs": [
    {
     "data": {
      "text/plain": [
       "{'game': {'CSOL': [[4, 7]]}}"
      ]
     },
     "execution_count": 19,
     "metadata": {},
     "output_type": "execute_result"
    }
   ],
   "source": [
    "Data[1]['label']"
   ]
  },
  {
   "cell_type": "code",
   "execution_count": 30,
   "metadata": {},
   "outputs": [
    {
     "name": "stdout",
     "output_type": "stream",
     "text": [
      "[7. 3. 0. 0. 0. 0. 0. 0. 0. 0. 0. 0. 0. 0. 0. 0. 0. 0. 0. 0. 0. 0. 0. 0.\n",
      " 0. 0. 0. 0. 0. 0. 0. 0. 0. 0. 0. 0. 0. 0. 0. 0. 0. 0. 0. 0. 0. 0. 0. 0.\n",
      " 0. 0. 0. 0. 0. 0. 0. 0. 0. 0. 0. 0. 0. 0. 0. 0. 0. 0. 0. 0. 0. 0. 0. 0.\n",
      " 0. 0. 0. 0. 0. 0. 0. 0. 0. 0. 0. 0. 0. 0. 0. 0. 0. 0. 0. 0. 0. 0. 0. 0.\n",
      " 0. 0. 0. 0. 0. 0. 0. 0. 0. 0. 0. 0. 0. 0. 0. 0. 0. 0. 0. 0. 0. 0. 0. 0.\n",
      " 0. 0. 0. 0. 0. 0. 0. 0.]\n",
      "{'address': 0, 'book': 1, 'company': 2, 'game': 3, 'government': 4, 'movie': 5, 'name': 6, 'organization': 7, 'position': 8, 'scene': 9}\n"
     ]
    }
   ],
   "source": [
    "import numpy as np\n",
    "\n",
    "label_list = ['address', 'book', 'company', 'game', 'government', 'movie', 'name', 'organization', 'position', 'scene']\n",
    "label_map = {label: i for i, label in enumerate(label_list)}\n",
    "\n",
    "max_seq_length = 128\n",
    "word_areas = np.zeros((max_seq_length, 3))\n",
    "total_tags = np.zeros((max_seq_length))\n",
    "total_areas = np.zeros((max_seq_length, max_seq_length))\n",
    "\n",
    "pos = 0\n",
    "for k in Data[0]['label'].keys():\n",
    "    for v in Data[0]['label'][k].values():\n",
    "        start = v[0][0]\n",
    "        end = v[0][1]\n",
    "        total_areas[pos][start : (end + 1)] += 1 / (end - start + 1)\n",
    "        total_tags[pos] = label_map[k] + 1\n",
    "        pos += 1\n",
    "        for i in range(start, end + 1):\n",
    "            word_areas[i, 0] = 1\n",
    "            word_areas[i, 1] = start - i\n",
    "            word_areas[i, 2] = end -i\n",
    "\n",
    "print(total_tags)\n",
    "print(label_map)"
   ]
  },
  {
   "cell_type": "code",
   "execution_count": 22,
   "metadata": {},
   "outputs": [
    {
     "name": "stdout",
     "output_type": "stream",
     "text": [
      "[9, 11]\n"
     ]
    }
   ],
   "source": [
    "for v in Data[0]['label']['name'].values():\n",
    "    print(v[0])"
   ]
  }
 ],
 "metadata": {
  "kernelspec": {
   "display_name": "torch_env",
   "language": "python",
   "name": "python3"
  },
  "language_info": {
   "codemirror_mode": {
    "name": "ipython",
    "version": 3
   },
   "file_extension": ".py",
   "mimetype": "text/x-python",
   "name": "python",
   "nbconvert_exporter": "python",
   "pygments_lexer": "ipython3",
   "version": "3.8.16"
  },
  "orig_nbformat": 4
 },
 "nbformat": 4,
 "nbformat_minor": 2
}
