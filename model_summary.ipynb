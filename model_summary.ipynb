{
 "cells": [
  {
   "cell_type": "code",
   "execution_count": 5,
   "metadata": {},
   "outputs": [
    {
     "name": "stderr",
     "output_type": "stream",
     "text": [
      "Some weights of the model checkpoint at bert-base-chinese were not used when initializing BERT_BiLSTM_CRF: ['cls.predictions.transform.LayerNorm.bias', 'cls.predictions.transform.dense.weight', 'cls.predictions.decoder.weight', 'cls.predictions.transform.dense.bias', 'cls.predictions.bias', 'cls.seq_relationship.bias', 'cls.seq_relationship.weight', 'cls.predictions.transform.LayerNorm.weight']\n",
      "- This IS expected if you are initializing BERT_BiLSTM_CRF from the checkpoint of a model trained on another task or with another architecture (e.g. initializing a BertForSequenceClassification model from a BertForPreTraining model).\n",
      "- This IS NOT expected if you are initializing BERT_BiLSTM_CRF from the checkpoint of a model that you expect to be exactly identical (initializing a BertForSequenceClassification model from a BertForSequenceClassification model).\n",
      "Some weights of BERT_BiLSTM_CRF were not initialized from the model checkpoint at bert-base-chinese and are newly initialized: ['birnn.weight_hh_l0', 'birnn.weight_hh_l0_reverse', 'crf.end_transitions', 'birnn.bias_hh_l0', 'hidden2tag.bias', 'crf.start_transitions', 'birnn.weight_ih_l0', 'crf.transitions', 'birnn.bias_ih_l0', 'birnn.weight_ih_l0_reverse', 'birnn.bias_hh_l0_reverse', 'hidden2tag.weight', 'birnn.bias_ih_l0_reverse']\n",
      "You should probably TRAIN this model on a down-stream task to be able to use it for predictions and inference.\n",
      "Some weights of the model checkpoint at bert-base-chinese were not used when initializing BERT_BiLSTM_CRF: ['cls.predictions.transform.LayerNorm.bias', 'cls.predictions.transform.dense.weight', 'cls.predictions.decoder.weight', 'cls.predictions.transform.dense.bias', 'cls.predictions.bias', 'cls.seq_relationship.bias', 'cls.seq_relationship.weight', 'cls.predictions.transform.LayerNorm.weight']\n",
      "- This IS expected if you are initializing BERT_BiLSTM_CRF from the checkpoint of a model trained on another task or with another architecture (e.g. initializing a BertForSequenceClassification model from a BertForPreTraining model).\n",
      "- This IS NOT expected if you are initializing BERT_BiLSTM_CRF from the checkpoint of a model that you expect to be exactly identical (initializing a BertForSequenceClassification model from a BertForSequenceClassification model).\n",
      "Some weights of BERT_BiLSTM_CRF were not initialized from the model checkpoint at bert-base-chinese and are newly initialized: ['crf.end_transitions', 'hidden2tag.bias', 'crf.start_transitions', 'crf.transitions', 'hidden2tag.weight']\n",
      "You should probably TRAIN this model on a down-stream task to be able to use it for predictions and inference.\n",
      "Some weights of the model checkpoint at bert-base-chinese were not used when initializing BERT_TXTCNN: ['cls.predictions.transform.LayerNorm.bias', 'cls.predictions.transform.dense.weight', 'cls.predictions.decoder.weight', 'cls.predictions.transform.dense.bias', 'cls.predictions.bias', 'cls.seq_relationship.bias', 'cls.seq_relationship.weight', 'cls.predictions.transform.LayerNorm.weight']\n",
      "- This IS expected if you are initializing BERT_TXTCNN from the checkpoint of a model trained on another task or with another architecture (e.g. initializing a BertForSequenceClassification model from a BertForPreTraining model).\n",
      "- This IS NOT expected if you are initializing BERT_TXTCNN from the checkpoint of a model that you expect to be exactly identical (initializing a BertForSequenceClassification model from a BertForSequenceClassification model).\n",
      "Some weights of BERT_TXTCNN were not initialized from the model checkpoint at bert-base-chinese and are newly initialized: ['classification.weight', 'birnn.weight_hh_l0', 'birnn.weight_hh_l0_reverse', 'birnn.bias_hh_l0', 'classification.bias', 'first_classification.bias', 'loc_regression.bias', 'birnn.weight_ih_l0', 'first_classification.weight', 'loc_regression.weight', 'birnn.bias_ih_l0', 'birnn.weight_ih_l0_reverse', 'birnn.bias_hh_l0_reverse', 'birnn.bias_ih_l0_reverse']\n",
      "You should probably TRAIN this model on a down-stream task to be able to use it for predictions and inference.\n",
      "Some weights of the model checkpoint at bert-base-chinese were not used when initializing BERT_TXTCNN: ['cls.predictions.transform.LayerNorm.bias', 'cls.predictions.transform.dense.weight', 'cls.predictions.decoder.weight', 'cls.predictions.transform.dense.bias', 'cls.predictions.bias', 'cls.seq_relationship.bias', 'cls.seq_relationship.weight', 'cls.predictions.transform.LayerNorm.weight']\n",
      "- This IS expected if you are initializing BERT_TXTCNN from the checkpoint of a model trained on another task or with another architecture (e.g. initializing a BertForSequenceClassification model from a BertForPreTraining model).\n",
      "- This IS NOT expected if you are initializing BERT_TXTCNN from the checkpoint of a model that you expect to be exactly identical (initializing a BertForSequenceClassification model from a BertForSequenceClassification model).\n",
      "Some weights of BERT_TXTCNN were not initialized from the model checkpoint at bert-base-chinese and are newly initialized: ['classification.weight', 'classification.bias', 'first_classification.bias', 'loc_regression.bias', 'first_classification.weight', 'loc_regression.weight']\n",
      "You should probably TRAIN this model on a down-stream task to be able to use it for predictions and inference.\n"
     ]
    }
   ],
   "source": [
    "import os\n",
    "import torch\n",
    "import logging\n",
    "\n",
    "from tqdm import tqdm, trange\n",
    "from torch.utils.data import DataLoader, SequentialSampler\n",
    "from transformers import AdamW, get_linear_schedule_with_warmup, BertTokenizer, BertConfig\n",
    "\n",
    "from utils import *\n",
    "from dataloader import NERDataset\n",
    "from models import BERT_BiLSTM_CRF, BERT_TXTCNN\n",
    "from evaluator import Metrics\n",
    "\n",
    "\n",
    "bert_config = BertConfig.from_pretrained('bert-base-chinese', num_labels=9)\n",
    "model_1 = BERT_BiLSTM_CRF.from_pretrained('bert-base-chinese', config=bert_config,\n",
    "                                                need_birnn=True, rnn_dim=128)\n",
    "model_2 = BERT_BiLSTM_CRF.from_pretrained('bert-base-chinese', config=bert_config,\n",
    "                                                need_birnn=False, rnn_dim=128)\n",
    "model_3 = BERT_TXTCNN.from_pretrained('bert-base-chinese', config=bert_config,\n",
    "                                                need_birnn=True, rnn_dim=128)\n",
    "model_4 = BERT_TXTCNN.from_pretrained('bert-base-chinese', config=bert_config,\n",
    "                                                need_birnn=False, rnn_dim=128)"
   ]
  },
  {
   "cell_type": "code",
   "execution_count": 6,
   "metadata": {},
   "outputs": [],
   "source": [
    "import numpy as np\n",
    "\n",
    "models = [model_1, model_2, model_3, model_4]\n",
    "Total = [0, 0, 0, 0]\n",
    "for idx, model in enumerate(models):\n",
    "    for param in model.parameters():\n",
    "            Total[idx] += np.prod(param.size())"
   ]
  },
  {
   "cell_type": "code",
   "execution_count": 7,
   "metadata": {},
   "outputs": [
    {
     "data": {
      "text/plain": [
       "[103189612, 102274668, 103188999, 102273031]"
      ]
     },
     "execution_count": 7,
     "metadata": {},
     "output_type": "execute_result"
    }
   ],
   "source": [
    "Total"
   ]
  }
 ],
 "metadata": {
  "kernelspec": {
   "display_name": "torch_env",
   "language": "python",
   "name": "python3"
  },
  "language_info": {
   "codemirror_mode": {
    "name": "ipython",
    "version": 3
   },
   "file_extension": ".py",
   "mimetype": "text/x-python",
   "name": "python",
   "nbconvert_exporter": "python",
   "pygments_lexer": "ipython3",
   "version": "3.8.16"
  },
  "orig_nbformat": 4
 },
 "nbformat": 4,
 "nbformat_minor": 2
}
